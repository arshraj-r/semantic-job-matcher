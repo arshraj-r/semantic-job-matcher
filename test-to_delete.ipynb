{
 "cells": [
  {
   "cell_type": "code",
   "execution_count": 92,
   "id": "5fbcdd15-27c9-4917-b711-168ff1323e86",
   "metadata": {},
   "outputs": [],
   "source": [
    "import pandas as pd"
   ]
  },
  {
   "cell_type": "code",
   "execution_count": 93,
   "id": "b592cb74-1df4-40ac-a9ef-8a1a66ecb6ac",
   "metadata": {},
   "outputs": [
    {
     "data": {
      "text/plain": [
       "'Python SQL SAS R Docker Kubernetes Kubeflow Git GitHub Streamlit FastAPI CI/CD pipelines Vertex AI TensorFlow PyTorch Scikit-learn Prophet HuggingFace Generative AI Large Language Models (LLMs) LLM fine-tuning Prompt engineering Chain of Thought (CoT) ReAct Zero-shot learning Few-shot learning Text classification Sentiment analysis Named Entity Recognition (NER) Topic modeling Text summarization Language translation Hate speech detection PEFT (Parameter-Efficient Fine-Tuning) LoRA (Low-Rank Adaptation) SBERT (Sentence-BERT) Spacy NLTK Gensim Regex BERTopic LDA (Latent Dirichlet Allocation) Retrieval-Augmented Generation (RAG) LangChain Quadrant FAISS OpenAI embeddings Vector search Model evaluation Model inference Anomaly detection Time series forecasting SMTP (email automation) MLOps Model deployment Cloud resource management Data preprocessing Model monitoring Statistical Analysis Plans (SAPs) Vertex AI Google Cloud Platform (GCP)'"
      ]
     },
     "execution_count": 93,
     "metadata": {},
     "output_type": "execute_result"
    }
   ],
   "source": [
    "df_skills=pd.read_csv(\"resume/cv_skills_keywords.csv\")\n",
    "list_skills= df_skills[\"Keyword\"].to_list()\n",
    "str_skills=\" \".join(list_skills)\n",
    "str_skills"
   ]
  },
  {
   "cell_type": "code",
   "execution_count": 94,
   "id": "e2b16d4c-76fe-4c9e-b4e3-ef9b997aaeeb",
   "metadata": {},
   "outputs": [],
   "source": [
    "from rank_bm25 import BM25Okapi\n",
    "import pandas as pd\n",
    "import re\n",
    "import pickle\n",
    "\n",
    "def preprocess_text(text):\n",
    "    return re.findall(r\"\\w+\", text.lower())\n",
    "\n",
    "def build_bm25(df, text_column):\n",
    "    tokenized_corpus = df[text_column].dropna().apply(preprocess_text).tolist()\n",
    "    return BM25Okapi(tokenized_corpus), tokenized_corpus\n",
    "\n",
    "def retrieve_bm25(query, bm25, metadata, text_column, k=5):\n",
    "    tokenized_query = preprocess_text(query)\n",
    "    scores = bm25.get_scores(tokenized_query)\n",
    "    top_k_indices = sorted(range(len(scores)), key=lambda i: scores[i], reverse=True)[:k]\n",
    "    return metadata.iloc[top_k_indices], [scores[i] for i in top_k_indices]\n",
    "\n",
    "def score_jds_with_bm25(df, str_skills, text_column=\"jd\"):\n",
    "    bm25, tokenized_corpus = build_bm25(df, text_column)\n",
    "    query = str_skills\n",
    "    tokenized_query = preprocess_text(query)\n",
    "    scores = bm25.get_scores(tokenized_query)\n",
    "\n",
    "    # Add scores to the DataFrame\n",
    "    df = df.copy()\n",
    "    df[\"score\"] = scores\n",
    "    return df\n",
    "\n"
   ]
  },
  {
   "cell_type": "code",
   "execution_count": 95,
   "id": "d1c39229-0ee2-42de-b7ae-61367cdd2c33",
   "metadata": {},
   "outputs": [],
   "source": [
    "CSV_PATH = \"jd_output.csv\"             # Your CSV file\n",
    "TEXT_COLUMN = \"jd\"                   # The column with text data\n",
    "BM25_INDEX_PATH = \"index/bm25_index.pkl\"   # Where to save the BM25 object\n",
    "METADATA_PATH = \"index/bm25_metadata.pkl\"  "
   ]
  },
  {
   "cell_type": "code",
   "execution_count": 96,
   "id": "26c7a0d1-2f1c-4386-9444-3ce93fd616a5",
   "metadata": {},
   "outputs": [
    {
     "name": "stdout",
     "output_type": "stream",
     "text": [
      "[INFO] Loading CSV...\n",
      "[INFO] Building BM25 index...\n",
      "[INFO] BM25 index saved to: index/bm25_index.pkl\n",
      "[INFO] Metadata saved to: index/bm25_metadata.pkl\n"
     ]
    }
   ],
   "source": [
    "# --- Load CSV ---\n",
    "print(\"[INFO] Loading CSV...\")\n",
    "df = pd.read_csv(CSV_PATH)\n",
    "df = df.dropna(subset=[TEXT_COLUMN])\n",
    "\n",
    "# --- Build BM25 ---\n",
    "print(\"[INFO] Building BM25 index...\")\n",
    "bm25, _ = build_bm25(df, TEXT_COLUMN)\n",
    "\n",
    "# --- Save BM25 index ---\n",
    "with open(BM25_INDEX_PATH, \"wb\") as f:\n",
    "    pickle.dump(bm25, f)\n",
    "print(f\"[INFO] BM25 index saved to: {BM25_INDEX_PATH}\")\n",
    "\n",
    "# --- Save metadata (original DataFrame) ---\n",
    "with open(METADATA_PATH, \"wb\") as f:\n",
    "    pickle.dump(df, f)\n",
    "print(f\"[INFO] Metadata saved to: {METADATA_PATH}\")"
   ]
  },
  {
   "cell_type": "code",
   "execution_count": 97,
   "id": "98fa7f27-c1e3-4fdf-8e03-063b670e30b7",
   "metadata": {},
   "outputs": [],
   "source": [
    "# Load BM25 index and metadata\n",
    "with open(BM25_INDEX_PATH, \"rb\") as f:\n",
    "    bm25 = pickle.load(f)\n",
    "\n",
    "with open(METADATA_PATH, \"rb\") as f:\n",
    "    metadata = pickle.load(f)\n",
    "\n",
    "query = str_skills\n",
    "scored_df = score_jds_with_bm25(df, str_skills)\n",
    "scored_df.sort_values(by=[\"score\"],ascending=False, inplace=True)"
   ]
  },
  {
   "cell_type": "code",
   "execution_count": null,
   "id": "239d0ab5-a5d2-4f17-a935-1d40ff8643e2",
   "metadata": {},
   "outputs": [],
   "source": []
  },
  {
   "cell_type": "code",
   "execution_count": 98,
   "id": "01971b86-1a5d-4898-8552-b5505060c1da",
   "metadata": {},
   "outputs": [],
   "source": [
    "scored_df.to_csv(\"final_results_with_score.csv\")"
   ]
  },
  {
   "cell_type": "code",
   "execution_count": null,
   "id": "c45db579-981d-40d6-a108-18640ded9edb",
   "metadata": {},
   "outputs": [],
   "source": []
  },
  {
   "cell_type": "code",
   "execution_count": null,
   "id": "31ed6507-0862-4eed-8560-ad21ffa697fd",
   "metadata": {},
   "outputs": [],
   "source": []
  }
 ],
 "metadata": {
  "kernelspec": {
   "display_name": "Python 3 (ipykernel)",
   "language": "python",
   "name": "python3"
  },
  "language_info": {
   "codemirror_mode": {
    "name": "ipython",
    "version": 3
   },
   "file_extension": ".py",
   "mimetype": "text/x-python",
   "name": "python",
   "nbconvert_exporter": "python",
   "pygments_lexer": "ipython3",
   "version": "3.10.16"
  }
 },
 "nbformat": 4,
 "nbformat_minor": 5
}
